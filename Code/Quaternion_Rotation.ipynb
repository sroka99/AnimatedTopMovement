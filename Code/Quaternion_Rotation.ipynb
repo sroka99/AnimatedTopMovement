{
 "cells": [
  {
   "attachments": {},
   "cell_type": "markdown",
   "metadata": {},
   "source": [
    "### Ładowane pakiety"
   ]
  },
  {
   "cell_type": "code",
   "execution_count": 8,
   "metadata": {},
   "outputs": [],
   "source": [
    "from package import scalarVector, NormalizeVector,conjugateQuaternion, multiQuaternion\n",
    "import math\n",
    "import imageio\n",
    "import matplotlib.pyplot as plt\n",
    "import numpy as np\n",
    "from mpl_toolkits.mplot3d.art3d import Poly3DCollection\n"
   ]
  },
  {
   "attachments": {},
   "cell_type": "markdown",
   "metadata": {},
   "source": [
    "### Definiowanie funkcji służącej do obrotu"
   ]
  },
  {
   "cell_type": "code",
   "execution_count": 9,
   "metadata": {},
   "outputs": [],
   "source": [
    "def rotationquaterion(angle: float, rotation_axis: list, element: list):\n",
    "    a = math.cos(angle / 2)\n",
    "    a_vector = scalarVector(math.sin(angle / 2), NormalizeVector(rotation_axis))\n",
    "    a_conjugate = conjugateQuaternion(a, a_vector)\n",
    "    mult1 = multiQuaternion(a, a_vector, 0, element)\n",
    "    return multiQuaternion(mult1[0], mult1[1], a_conjugate[0], a_conjugate[1])[1]"
   ]
  },
  {
   "attachments": {},
   "cell_type": "markdown",
   "metadata": {},
   "source": [
    "### Funkcja generująca obrazek obruconego bączka z użyciem kwaternionów"
   ]
  },
  {
   "cell_type": "code",
   "execution_count": 10,
   "metadata": {},
   "outputs": [],
   "source": [
    "def spin3d(speed:float,angle:float,axis_rotation:list,time:int):\n",
    "    #main_points\n",
    "    base_point=[0,0,0]\n",
    "    end_point=[0,0,3]\n",
    "    h1=1\n",
    "    r1=1\n",
    "    h2=1+1/3 \n",
    "    r2=1/2\n",
    "    round_1 = np.linspace(0, 2*math.pi, 10**3)\n",
    "    first_cycle:list  = []\n",
    "    second_cycle:list = []\n",
    "    color_change_frequency:int=100\n",
    "    k=0\n",
    "    for i in round_1:\n",
    "        first_cycle.append([r1*math.cos(i),r1*math.sin(i),h1])\n",
    "        second_cycle.append([r2*math.cos(i),r2*math.sin(i),h2])\n",
    "    #####\n",
    "    fig = plt.figure()\n",
    "    ax = fig.add_subplot(projection='3d')\n",
    "    #ax.axis('off')\n",
    "\n",
    "    z_axis = np.linspace(0, 4, 100)\n",
    "    xy_axis = np.linspace(-4, 4, 100)\n",
    "    z_0=np.linspace(0, 0, 100)\n",
    "    end_point_plot = np.linspace(10, 10, 200)\n",
    "    ax.plot(xy_axis, z_0, z_0,color = 'black', linewidth=1,alpha=0)\n",
    "    ax.plot(z_0, z_0,z_axis,color = 'black', linewidth=1,alpha=0)\n",
    "    ax.plot(z_0, xy_axis, z_0,color = 'black', linewidth=1,alpha=0)\n",
    "    ax.view_init(5,30,0)\n",
    "\n",
    "    ###\n",
    "    first_cycle_rotation:list = [] \n",
    "    second_cycle_rotation:list = [] \n",
    "\n",
    "    i=0\n",
    "    while i < len(first_cycle):\n",
    "        ##\n",
    "    \n",
    "        ##\n",
    "        first_cycle_rotation.append(rotationquaterion(angle,axis_rotation,rotationquaterion(speed,[0,0,1],first_cycle[i])))\n",
    "        second_cycle_rotation.append(rotationquaterion(angle,axis_rotation,rotationquaterion(speed,[0,0,1],second_cycle[i])))\n",
    "        i=i+1\n",
    "    first_cycle=first_cycle_rotation\n",
    "    second_cycle=second_cycle_rotation\n",
    "    ##\n",
    "    end_point =  rotationquaterion(angle,[0,0,1],end_point)\n",
    "    ##\n",
    "    end_point =  rotationquaterion(angle,axis_rotation,end_point)\n",
    "    i=0\n",
    "    lista_test1=[]\n",
    "    while i < len(first_cycle)-1:\n",
    "        #1level\n",
    "        xr1=[base_point[0],first_cycle[i][0],first_cycle[i+1][0]]\n",
    "        yr1=[base_point[1],first_cycle[i][1],first_cycle[i+1][1]]\n",
    "        zr1=[base_point[2],first_cycle[i+1][2],first_cycle[i+1][2]]\n",
    "        verts1 = [list(zip(xr1,yr1,zr1))]\n",
    "        #2level\n",
    "        xr2=[first_cycle[i][0],second_cycle[i][0],second_cycle[i+1][0],first_cycle[i+1][0]]\n",
    "        yr2=[first_cycle[i][1],second_cycle[i][1],second_cycle[i+1][1],first_cycle[i+1][1]]\n",
    "        zr2=[first_cycle[i][2],second_cycle[i+1][2],second_cycle[i+1][2],first_cycle[i+1][2]]\n",
    "        verts2 = [list(zip(xr2,yr2,zr2))]\n",
    "        #3level\n",
    "        xr3=[end_point[0],second_cycle[i][0],second_cycle[i+1][0]]\n",
    "        yr3=[end_point[1],second_cycle[i][1],second_cycle[i+1][1]]\n",
    "        zr3=[end_point[2],second_cycle[i+1][2],second_cycle[i+1][2]]\n",
    "        verts3 = [list(zip(xr3,yr3,zr3))]\n",
    "        ##\n",
    "        if_list = [i % color_change_frequency, round(i/color_change_frequency)]\n",
    "        lista_test1.append(if_list)\n",
    "        if if_list[1] % 2 == 0:\n",
    "            ax.add_collection3d(Poly3DCollection(verts1,facecolors='yellow', linewidths=1))\n",
    "            ax.add_collection3d(Poly3DCollection(verts2,facecolors='black', linewidths=1))\n",
    "            ax.add_collection3d(Poly3DCollection(verts3,facecolors='yellow', linewidths=1))\n",
    "        if if_list[1] % 2 == 1:\n",
    "            ax.add_collection3d(Poly3DCollection(verts1,facecolors='black', linewidths=1))\n",
    "            ax.add_collection3d(Poly3DCollection(verts2,facecolors='yellow', linewidths=1))\n",
    "            ax.add_collection3d(Poly3DCollection(verts3,facecolors='black', linewidths=1))\n",
    "        i=i+1\n",
    "\n",
    "\n",
    "    #plt.title('Kąt obrotu (' + eulerz + ', '+ eulery + ', '+ eulerx+')')\n",
    "    \n",
    "    plt.savefig(f'./Animation/Animation{time}.png',\n",
    "                dpi=500, \n",
    "                transparent = False,  \n",
    "                facecolor = 'white')\n",
    " \n",
    "    plt.close()"
   ]
  },
  {
   "attachments": {},
   "cell_type": "markdown",
   "metadata": {},
   "source": [
    "### Tworzenie animacji"
   ]
  },
  {
   "cell_type": "code",
   "execution_count": 11,
   "metadata": {},
   "outputs": [],
   "source": [
    "size       = 500\n",
    "time       = 0\n",
    "axisAngle  = np.linspace(0,32*math.pi, size)\n",
    "radius     = np.linspace(0,1/4, size)\n",
    "speedValue = np.linspace(16*(math.pi),math.pi/8, size)\n",
    "\n",
    "while time<500:\n",
    "    spin3d(speedValue[time],math.pi,[radius[time]*math.cos(axisAngle[time]),radius[time]*math.sin(axisAngle[time]),(1-radius[time]**2)**(1/2)],time)\n",
    "    time=time+1"
   ]
  },
  {
   "cell_type": "code",
   "execution_count": 12,
   "metadata": {},
   "outputs": [],
   "source": [
    "frames = []\n",
    "t = 0\n",
    "while t<500:\n",
    "    image = imageio.v2.imread(f'./Animation/Animation{t}.png')\n",
    "    frames.append(image)\n",
    "    t=t+1\n",
    "imageio.mimwrite('./Animation.gif', # output gif\n",
    "                frames,\n",
    "                duration=20,\n",
    "                loop = 0)         # optional: frames per second"
   ]
  },
  {
   "attachments": {},
   "cell_type": "markdown",
   "metadata": {},
   "source": [
    "#### Optymalizacja funkcji $spin3d()$"
   ]
  },
  {
   "cell_type": "code",
   "execution_count": 3,
   "metadata": {},
   "outputs": [],
   "source": [
    "def rotationquaterionChanged(scalar: float, rotation_axis: list, element: list):\n",
    "    rotation_axis_conjugate = conjugateQuaternion(scalar, rotation_axis)\n",
    "    mult1 = multiQuaternion(scalar, rotation_axis, 0, element)\n",
    "    return multiQuaternion(mult1[0], mult1[1], rotation_axis_conjugate[0], rotation_axis_conjugate[1])[1]"
   ]
  },
  {
   "cell_type": "code",
   "execution_count": 14,
   "metadata": {},
   "outputs": [],
   "source": [
    "def spin3dOptimized(speed:float,angle:float,axis_rotation:list,time:int):\n",
    "    #main_points\n",
    "    base_point=[0,0,0]\n",
    "    end_point=[0,0,3]\n",
    "    h1=1\n",
    "    r1=1\n",
    "    h2=1+1/3 \n",
    "    r2=1/2\n",
    "    round_1 = np.linspace(0, 2*math.pi, 10**3)\n",
    "    first_cycle:list  = []\n",
    "    second_cycle:list = []\n",
    "    color_change_frequency:int=100\n",
    "    k=0\n",
    "    for i in round_1:\n",
    "        first_cycle.append([r1*math.cos(i),r1*math.sin(i),h1])\n",
    "        second_cycle.append([r2*math.cos(i),r2*math.sin(i),h2])\n",
    "    #####\n",
    "    fig = plt.figure()\n",
    "    ax = fig.add_subplot(projection='3d')\n",
    "    #ax.axis('off')\n",
    "\n",
    "    z_axis = np.linspace(0, 4, 100)\n",
    "    xy_axis = np.linspace(-4, 4, 100)\n",
    "    z_0=np.linspace(0, 0, 100)\n",
    "    end_point_plot = np.linspace(10, 10, 200)\n",
    "    ax.plot(xy_axis, z_0, z_0,color = 'black', linewidth=1,alpha=0)\n",
    "    ax.plot(z_0, z_0,z_axis,color = 'black', linewidth=1,alpha=0)\n",
    "    ax.plot(z_0, xy_axis, z_0,color = 'black', linewidth=1,alpha=0)\n",
    "    ax.view_init(5,30,0)\n",
    "\n",
    "    ###\n",
    "    first_cycle_rotation:list = [] \n",
    "    second_cycle_rotation:list = [] \n",
    "    #rotation points\n",
    "    #rot_matrix = rotation_matrixzyx(z_angle,y_angle,x_angle)\n",
    "    q1_scalar = math.cos(speed/2)\n",
    "    q1_vector = [0,0,math.sin(speed/2)]\n",
    "    q2_scalar = math.cos(angle/2)\n",
    "    q2_vector = [axis_rotation[0],axis_rotation[1],axis_rotation[2]]\n",
    "    q1=multiQuaternion(q1_scalar,q1_vector,q2_scalar,q2_vector)\n",
    "    i=0\n",
    "    while i < len(first_cycle):\n",
    "        first_cycle_rotation.append(rotationquaterionChanged(q1[0],q1[1],first_cycle[i]))\n",
    "        second_cycle_rotation.append(rotationquaterionChanged(q1[0],q1[1],second_cycle[i]))\n",
    "        # first_cycle_rotation.append(rotationquaterion(rotationAxis[0],rotationAxis[1],first_cycle[i]))\n",
    "        # second_cycle_rotation.append(rotationquaterion(rotationAxis[0],rotationAxis[1],second_cycle[i]))    \n",
    "        i=i+1\n",
    "    first_cycle=first_cycle_rotation\n",
    "    second_cycle=second_cycle_rotation\n",
    "    ##\n",
    "    # base_point = rotationquaterion(angle,[0,0,1],base_point)\n",
    "    # end_point =  rotationquaterion(angle,[0,0,1],end_point)\n",
    "    ##\n",
    "    #base_point = rotationquaterion(newangle,rotationAxis,base_point)\n",
    "    end_point =  rotationquaterionChanged(q1[0],q1[1],end_point)\n",
    "    #print(end_point)\n",
    "    i=0\n",
    "    lista_test1=[]\n",
    "    while i < len(first_cycle)-1:\n",
    "        #1level\n",
    "        xr1=[base_point[0],first_cycle[i][0],first_cycle[i+1][0]]\n",
    "        yr1=[base_point[1],first_cycle[i][1],first_cycle[i+1][1]]\n",
    "        zr1=[base_point[2],first_cycle[i+1][2],first_cycle[i+1][2]]\n",
    "        verts1 = [list(zip(xr1,yr1,zr1))]\n",
    "        #2level\n",
    "        xr2=[first_cycle[i][0],second_cycle[i][0],second_cycle[i+1][0],first_cycle[i+1][0]]\n",
    "        yr2=[first_cycle[i][1],second_cycle[i][1],second_cycle[i+1][1],first_cycle[i+1][1]]\n",
    "        zr2=[first_cycle[i][2],second_cycle[i+1][2],second_cycle[i+1][2],first_cycle[i+1][2]]\n",
    "        verts2 = [list(zip(xr2,yr2,zr2))]\n",
    "        #3level\n",
    "        xr3=[end_point[0],second_cycle[i][0],second_cycle[i+1][0]]\n",
    "        yr3=[end_point[1],second_cycle[i][1],second_cycle[i+1][1]]\n",
    "        zr3=[end_point[2],second_cycle[i+1][2],second_cycle[i+1][2]]\n",
    "        verts3 = [list(zip(xr3,yr3,zr3))]\n",
    "        ##\n",
    "        if_list = [i % color_change_frequency, round(i/color_change_frequency)]\n",
    "        lista_test1.append(if_list)\n",
    "        if if_list[1] % 2 == 0:\n",
    "            ax.add_collection3d(Poly3DCollection(verts1,facecolors='yellow', linewidths=1))\n",
    "            ax.add_collection3d(Poly3DCollection(verts2,facecolors='black', linewidths=1))\n",
    "            ax.add_collection3d(Poly3DCollection(verts3,facecolors='yellow', linewidths=1))\n",
    "        if if_list[1] % 2 == 1:\n",
    "            ax.add_collection3d(Poly3DCollection(verts1,facecolors='black', linewidths=1))\n",
    "            ax.add_collection3d(Poly3DCollection(verts2,facecolors='yellow', linewidths=1))\n",
    "            ax.add_collection3d(Poly3DCollection(verts3,facecolors='black', linewidths=1))\n",
    "        i=i+1\n",
    "\n",
    "\n",
    "    #plt.title('Kąt obrotu (' + eulerz + ', '+ eulery + ', '+ eulerx+')')\n",
    "    \n",
    "    plt.savefig(f'./AnimationFasterVersion/AnimationV2{time}.png',\n",
    "                dpi=500, \n",
    "                transparent = False,  \n",
    "                facecolor = 'white')\n",
    " \n",
    "    plt.close()"
   ]
  },
  {
   "attachments": {},
   "cell_type": "markdown",
   "metadata": {},
   "source": [
    "### Tworzenie animacji dla zoptymalizowanej funkcji"
   ]
  },
  {
   "cell_type": "code",
   "execution_count": 15,
   "metadata": {},
   "outputs": [
    {
     "ename": "KeyboardInterrupt",
     "evalue": "",
     "output_type": "error",
     "traceback": [
      "\u001b[1;31m---------------------------------------------------------------------------\u001b[0m",
      "\u001b[1;31mKeyboardInterrupt\u001b[0m                         Traceback (most recent call last)",
      "Cell \u001b[1;32mIn[15], line 8\u001b[0m\n\u001b[0;32m      5\u001b[0m speedValue \u001b[39m=\u001b[39m np\u001b[39m.\u001b[39mlinspace(\u001b[39m16\u001b[39m\u001b[39m*\u001b[39m(math\u001b[39m.\u001b[39mpi),math\u001b[39m.\u001b[39mpi\u001b[39m/\u001b[39m\u001b[39m8\u001b[39m, size)\n\u001b[0;32m      7\u001b[0m \u001b[39mwhile\u001b[39;00m time\u001b[39m<\u001b[39msize:\n\u001b[1;32m----> 8\u001b[0m     spin3dOptimized(speedValue[time],math\u001b[39m.\u001b[39;49mpi,[radius[time]\u001b[39m*\u001b[39;49mmath\u001b[39m.\u001b[39;49mcos(axisAngle[time]),radius[time]\u001b[39m*\u001b[39;49mmath\u001b[39m.\u001b[39;49msin(axisAngle[time]),(\u001b[39m1\u001b[39;49m\u001b[39m-\u001b[39;49mradius[time]\u001b[39m*\u001b[39;49m\u001b[39m*\u001b[39;49m\u001b[39m2\u001b[39;49m)\u001b[39m*\u001b[39;49m\u001b[39m*\u001b[39;49m(\u001b[39m1\u001b[39;49m\u001b[39m/\u001b[39;49m\u001b[39m2\u001b[39;49m)],time)\n\u001b[0;32m      9\u001b[0m     time\u001b[39m=\u001b[39mtime\u001b[39m+\u001b[39m\u001b[39m1\u001b[39m\n",
      "Cell \u001b[1;32mIn[14], line 80\u001b[0m, in \u001b[0;36mspin3dOptimized\u001b[1;34m(speed, angle, axis_rotation, time)\u001b[0m\n\u001b[0;32m     78\u001b[0m \u001b[39mif\u001b[39;00m if_list[\u001b[39m1\u001b[39m] \u001b[39m%\u001b[39m \u001b[39m2\u001b[39m \u001b[39m==\u001b[39m \u001b[39m0\u001b[39m:\n\u001b[0;32m     79\u001b[0m     ax\u001b[39m.\u001b[39madd_collection3d(Poly3DCollection(verts1,facecolors\u001b[39m=\u001b[39m\u001b[39m'\u001b[39m\u001b[39myellow\u001b[39m\u001b[39m'\u001b[39m, linewidths\u001b[39m=\u001b[39m\u001b[39m1\u001b[39m))\n\u001b[1;32m---> 80\u001b[0m     ax\u001b[39m.\u001b[39madd_collection3d(Poly3DCollection(verts2,facecolors\u001b[39m=\u001b[39;49m\u001b[39m'\u001b[39;49m\u001b[39mblack\u001b[39;49m\u001b[39m'\u001b[39;49m, linewidths\u001b[39m=\u001b[39;49m\u001b[39m1\u001b[39;49m))\n\u001b[0;32m     81\u001b[0m     ax\u001b[39m.\u001b[39madd_collection3d(Poly3DCollection(verts3,facecolors\u001b[39m=\u001b[39m\u001b[39m'\u001b[39m\u001b[39myellow\u001b[39m\u001b[39m'\u001b[39m, linewidths\u001b[39m=\u001b[39m\u001b[39m1\u001b[39m))\n\u001b[0;32m     82\u001b[0m \u001b[39mif\u001b[39;00m if_list[\u001b[39m1\u001b[39m] \u001b[39m%\u001b[39m \u001b[39m2\u001b[39m \u001b[39m==\u001b[39m \u001b[39m1\u001b[39m:\n",
      "File \u001b[1;32mc:\\python\\MGR\\.venv\\Lib\\site-packages\\mpl_toolkits\\mplot3d\\art3d.py:881\u001b[0m, in \u001b[0;36mPoly3DCollection.__init__\u001b[1;34m(self, verts, zsort, shade, lightsource, *args, **kwargs)\u001b[0m\n\u001b[0;32m    877\u001b[0m     \u001b[39mif\u001b[39;00m facecolors \u001b[39mis\u001b[39;00m \u001b[39mNone\u001b[39;00m \u001b[39mand\u001b[39;00m edgecolors \u001b[39min\u001b[39;00m \u001b[39mNone\u001b[39;00m:\n\u001b[0;32m    878\u001b[0m         \u001b[39mraise\u001b[39;00m \u001b[39mValueError\u001b[39;00m(\n\u001b[0;32m    879\u001b[0m             \u001b[39m\"\u001b[39m\u001b[39mYou must provide facecolors, edgecolors, or both for \u001b[39m\u001b[39m\"\u001b[39m\n\u001b[0;32m    880\u001b[0m             \u001b[39m\"\u001b[39m\u001b[39mshade to work.\u001b[39m\u001b[39m\"\u001b[39m)\n\u001b[1;32m--> 881\u001b[0m \u001b[39msuper\u001b[39;49m()\u001b[39m.\u001b[39;49m\u001b[39m__init__\u001b[39;49m(verts, \u001b[39m*\u001b[39;49margs, \u001b[39m*\u001b[39;49m\u001b[39m*\u001b[39;49mkwargs)\n\u001b[0;32m    882\u001b[0m \u001b[39mif\u001b[39;00m \u001b[39misinstance\u001b[39m(verts, np\u001b[39m.\u001b[39mndarray):\n\u001b[0;32m    883\u001b[0m     \u001b[39mif\u001b[39;00m verts\u001b[39m.\u001b[39mndim \u001b[39m!=\u001b[39m \u001b[39m3\u001b[39m:\n",
      "File \u001b[1;32mc:\\python\\MGR\\.venv\\Lib\\site-packages\\matplotlib\\_api\\deprecation.py:454\u001b[0m, in \u001b[0;36mmake_keyword_only.<locals>.wrapper\u001b[1;34m(*args, **kwargs)\u001b[0m\n\u001b[0;32m    448\u001b[0m \u001b[39mif\u001b[39;00m \u001b[39mlen\u001b[39m(args) \u001b[39m>\u001b[39m name_idx:\n\u001b[0;32m    449\u001b[0m     warn_deprecated(\n\u001b[0;32m    450\u001b[0m         since, message\u001b[39m=\u001b[39m\u001b[39m\"\u001b[39m\u001b[39mPassing the \u001b[39m\u001b[39m%(name)s\u001b[39;00m\u001b[39m \u001b[39m\u001b[39m%(obj_type)s\u001b[39;00m\u001b[39m \u001b[39m\u001b[39m\"\u001b[39m\n\u001b[0;32m    451\u001b[0m         \u001b[39m\"\u001b[39m\u001b[39mpositionally is deprecated since Matplotlib \u001b[39m\u001b[39m%(since)s\u001b[39;00m\u001b[39m; the \u001b[39m\u001b[39m\"\u001b[39m\n\u001b[0;32m    452\u001b[0m         \u001b[39m\"\u001b[39m\u001b[39mparameter will become keyword-only \u001b[39m\u001b[39m%(removal)s\u001b[39;00m\u001b[39m.\u001b[39m\u001b[39m\"\u001b[39m,\n\u001b[0;32m    453\u001b[0m         name\u001b[39m=\u001b[39mname, obj_type\u001b[39m=\u001b[39m\u001b[39mf\u001b[39m\u001b[39m\"\u001b[39m\u001b[39mparameter of \u001b[39m\u001b[39m{\u001b[39;00mfunc\u001b[39m.\u001b[39m\u001b[39m__name__\u001b[39m\u001b[39m}\u001b[39;00m\u001b[39m()\u001b[39m\u001b[39m\"\u001b[39m)\n\u001b[1;32m--> 454\u001b[0m \u001b[39mreturn\u001b[39;00m func(\u001b[39m*\u001b[39;49margs, \u001b[39m*\u001b[39;49m\u001b[39m*\u001b[39;49mkwargs)\n",
      "File \u001b[1;32mc:\\python\\MGR\\.venv\\Lib\\site-packages\\matplotlib\\collections.py:1172\u001b[0m, in \u001b[0;36mPolyCollection.__init__\u001b[1;34m(self, verts, sizes, closed, **kwargs)\u001b[0m\n\u001b[0;32m   1170\u001b[0m \u001b[39msuper\u001b[39m()\u001b[39m.\u001b[39m\u001b[39m__init__\u001b[39m(\u001b[39m*\u001b[39m\u001b[39m*\u001b[39mkwargs)\n\u001b[0;32m   1171\u001b[0m \u001b[39mself\u001b[39m\u001b[39m.\u001b[39mset_sizes(sizes)\n\u001b[1;32m-> 1172\u001b[0m \u001b[39mself\u001b[39;49m\u001b[39m.\u001b[39;49mset_verts(verts, closed)\n\u001b[0;32m   1173\u001b[0m \u001b[39mself\u001b[39m\u001b[39m.\u001b[39mstale \u001b[39m=\u001b[39m \u001b[39mTrue\u001b[39;00m\n",
      "File \u001b[1;32mc:\\python\\MGR\\.venv\\Lib\\site-packages\\mpl_toolkits\\mplot3d\\art3d.py:937\u001b[0m, in \u001b[0;36mPoly3DCollection.set_verts\u001b[1;34m(self, verts, closed)\u001b[0m\n\u001b[0;32m    923\u001b[0m \u001b[39mdef\u001b[39;00m \u001b[39mset_verts\u001b[39m(\u001b[39mself\u001b[39m, verts, closed\u001b[39m=\u001b[39m\u001b[39mTrue\u001b[39;00m):\n\u001b[0;32m    924\u001b[0m \u001b[39m    \u001b[39m\u001b[39m\"\"\"\u001b[39;00m\n\u001b[0;32m    925\u001b[0m \u001b[39m    Set 3D vertices.\u001b[39;00m\n\u001b[0;32m    926\u001b[0m \n\u001b[1;32m   (...)\u001b[0m\n\u001b[0;32m    935\u001b[0m \u001b[39m        connection at the end.\u001b[39;00m\n\u001b[0;32m    936\u001b[0m \u001b[39m    \"\"\"\u001b[39;00m\n\u001b[1;32m--> 937\u001b[0m     \u001b[39mself\u001b[39;49m\u001b[39m.\u001b[39;49mget_vector(verts)\n\u001b[0;32m    938\u001b[0m     \u001b[39m# 2D verts will be updated at draw time\u001b[39;00m\n\u001b[0;32m    939\u001b[0m     \u001b[39msuper\u001b[39m()\u001b[39m.\u001b[39mset_verts([], \u001b[39mFalse\u001b[39;00m)\n",
      "File \u001b[1;32mc:\\python\\MGR\\.venv\\Lib\\site-packages\\mpl_toolkits\\mplot3d\\art3d.py:918\u001b[0m, in \u001b[0;36mPoly3DCollection.get_vector\u001b[1;34m(self, segments3d)\u001b[0m\n\u001b[0;32m    916\u001b[0m     xs, ys, zs \u001b[39m=\u001b[39m [], [], []\n\u001b[0;32m    917\u001b[0m ones \u001b[39m=\u001b[39m np\u001b[39m.\u001b[39mones(\u001b[39mlen\u001b[39m(xs))\n\u001b[1;32m--> 918\u001b[0m \u001b[39mself\u001b[39m\u001b[39m.\u001b[39m_vec \u001b[39m=\u001b[39m np\u001b[39m.\u001b[39marray([xs, ys, zs, ones])\n\u001b[0;32m    920\u001b[0m indices \u001b[39m=\u001b[39m [\u001b[39m0\u001b[39m, \u001b[39m*\u001b[39mnp\u001b[39m.\u001b[39mcumsum([\u001b[39mlen\u001b[39m(segment) \u001b[39mfor\u001b[39;00m segment \u001b[39min\u001b[39;00m segments3d])]\n\u001b[0;32m    921\u001b[0m \u001b[39mself\u001b[39m\u001b[39m.\u001b[39m_segslices \u001b[39m=\u001b[39m [\u001b[39m*\u001b[39m\u001b[39mmap\u001b[39m(\u001b[39mslice\u001b[39m, indices[:\u001b[39m-\u001b[39m\u001b[39m1\u001b[39m], indices[\u001b[39m1\u001b[39m:])]\n",
      "\u001b[1;31mKeyboardInterrupt\u001b[0m: "
     ]
    },
    {
     "data": {
      "image/png": "[encoded data removed]",
      "text/plain": [
       "<Figure size 640x480 with 1 Axes>"
      ]
     },
     "metadata": {},
     "output_type": "display_data"
    }
   ],
   "source": [
    "size       = 500\n",
    "time       = 0\n",
    "axisAngle  = np.linspace(0,32*math.pi, size)\n",
    "radius     = np.linspace(0,1/4, size)\n",
    "speedValue = np.linspace(16*(math.pi),math.pi/8, size)\n",
    "\n",
    "while time<size:\n",
    "    spin3dOptimized(speedValue[time],math.pi,[radius[time]*math.cos(axisAngle[time]),radius[time]*math.sin(axisAngle[time]),(1-radius[time]**2)**(1/2)],time)\n",
    "    time=time+1"
   ]
  },
  {
   "cell_type": "code",
   "execution_count": null,
   "metadata": {},
   "outputs": [],
   "source": [
    "frames = []\n",
    "t = 0\n",
    "while t<500:\n",
    "    image = imageio.v2.imread(f'./AnimationFasterVersion/AnimationV2{t}.png')\n",
    "    frames.append(image)\n",
    "    t=t+1\n",
    "imageio.mimwrite('./AnimationV2test.gif', # output gif\n",
    "                frames,\n",
    "                duration=30,\n",
    "                loop = 0)         # optional: frames per second"
   ]
  },
  {
   "cell_type": "code",
   "execution_count": null,
   "metadata": {},
   "outputs": [],
   "source": []
  }
 ],
 "metadata": {
  "kernelspec": {
   "display_name": ".venv",
   "language": "python",
   "name": "python3"
  },
  "language_info": {
   "codemirror_mode": {
    "name": "ipython",
    "version": 3
   },
   "file_extension": ".py",
   "mimetype": "text/x-python",
   "name": "python",
   "nbconvert_exporter": "python",
   "pygments_lexer": "ipython3",
   "version": "3.11.3"
  },
  "orig_nbformat": 4
 },
 "nbformat": 4,
 "nbformat_minor": 2
}
