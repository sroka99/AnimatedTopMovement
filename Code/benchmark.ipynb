{
 "cells": [
  {
   "attachments": {},
   "cell_type": "markdown",
   "metadata": {},
   "source": [
    "### Importowanie pakietów oraz zdefiniowanie funkcji"
   ]
  },
  {
   "cell_type": "code",
   "execution_count": 1,
   "metadata": {},
   "outputs": [],
   "source": [
    "import random \n",
    "from package import *\n",
    "import time\n",
    "\n",
    "def rotationquaterion(angle: float, rotation_axis: list, element: list):\n",
    "    a = math.cos(angle / 2)\n",
    "    a_vector = scalarVector(math.sin(angle / 2), NormalizeVector(rotation_axis))\n",
    "    a_conjugate = conjugateQuaternion(a, a_vector)\n",
    "    mult1 = multiQuaternion(a, a_vector, 0, element)\n",
    "    return multiQuaternion(mult1[0], mult1[1], a_conjugate[0], a_conjugate[1])[1]\n",
    "\n",
    "def RotationbyMatrix(rotation_matix, point):\n",
    "    return np.matmul(rotation_matix, point)"
   ]
  },
  {
   "attachments": {},
   "cell_type": "markdown",
   "metadata": {},
   "source": [
    "### Tworzenie próbki"
   ]
  },
  {
   "cell_type": "code",
   "execution_count": 2,
   "metadata": {},
   "outputs": [],
   "source": [
    "def sample(n:int):\n",
    "    return_list=[]\n",
    "    i=0\n",
    "    while i<n:\n",
    "        a,b,c=random.random(),random.random(),random.random()\n",
    "        return_list.append([a,b,c])\n",
    "        i=i+1\n",
    "    return return_list"
   ]
  },
  {
   "cell_type": "code",
   "execution_count": 3,
   "metadata": {},
   "outputs": [],
   "source": [
    "sample_test=sample(55*10**4)\n",
    "angle_list = np.linspace(0, 2*math.pi, 300)"
   ]
  },
  {
   "attachments": {},
   "cell_type": "markdown",
   "metadata": {},
   "source": [
    "### Test pierwszy -  obrót wszystkich punktów względem tej samej osi o ten sam kąt  "
   ]
  },
  {
   "cell_type": "code",
   "execution_count": 6,
   "metadata": {},
   "outputs": [
    {
     "name": "stdout",
     "output_type": "stream",
     "text": [
      "424.336\n",
      "424.717\n",
      "426.508\n",
      "420.764\n",
      "416.259\n",
      "415.12\n",
      "416.574\n",
      "417.562\n",
      "420.177\n",
      "417.17\n",
      "[424.336, 424.717, 426.508, 420.764, 416.259, 415.12, 416.574, 417.562, 420.177, 417.17]\n"
     ]
    }
   ],
   "source": [
    "time_list_quaterion=[]\n",
    "k=0\n",
    "while k < 10: \n",
    "    start_time = time.time()\n",
    "    for j in angle_list:\n",
    "        for i in sample_test:\n",
    "            rotationquaterion(j,[0,0,1],i)\n",
    "    time_list_quaterion.append(round(time.time() - start_time,3))\n",
    "    print(time_list_quaterion[k])\n",
    "    k=k+1\n",
    "print(time_list_quaterion)"
   ]
  },
  {
   "cell_type": "code",
   "execution_count": 7,
   "metadata": {},
   "outputs": [
    {
     "name": "stdout",
     "output_type": "stream",
     "text": [
      "325.637\n",
      "325.868\n",
      "324.439\n",
      "324.802\n",
      "325.533\n",
      "326.15\n",
      "325.581\n",
      "325.305\n",
      "326.413\n",
      "325.06\n",
      "[325.637, 325.868, 324.439, 324.802, 325.533, 326.15, 325.581, 325.305, 326.413, 325.06]\n"
     ]
    }
   ],
   "source": [
    "time_list_matrix=[]\n",
    "k=0\n",
    "while k < 10:\n",
    "    start_time = time.time()\n",
    "    for j in angle_list:\n",
    "        rot_matrix = rotationMatrixZYX(j,0,0)\n",
    "        for i in sample_test:\n",
    "            RotationbyMatrix(rot_matrix,i)\n",
    "    time_list_matrix.append(round(time.time() - start_time,3))\n",
    "    print(time_list_matrix[k])\n",
    "    k=k+1\n",
    "print(time_list_matrix)"
   ]
  },
  {
   "cell_type": "code",
   "execution_count": 8,
   "metadata": {},
   "outputs": [
    {
     "name": "stdout",
     "output_type": "stream",
     "text": [
      "Średni czas wykonany z użyciem obrotu kwaternionowego: 419.919 sekund\n",
      "Średni czas wykonany z użyciem obrotu macierzowego: 325.479 sekund\n"
     ]
    }
   ],
   "source": [
    "mean1 = round(sum(time_list_quaterion)/10,3)\n",
    "mean2 = round(sum(time_list_matrix)/10,3)\n",
    "print(f\"Średni czas wykonany z użyciem obrotu kwaternionowego: {mean1} sekund\") \n",
    "print(f\"Średni czas wykonany z użyciem obrotu macierzowego: {mean2} sekund\") "
   ]
  },
  {
   "attachments": {},
   "cell_type": "markdown",
   "metadata": {},
   "source": [
    "### Test drugi -  obrót punktów o różne osie oraz różne kąty  "
   ]
  },
  {
   "cell_type": "code",
   "execution_count": 9,
   "metadata": {},
   "outputs": [
    {
     "name": "stdout",
     "output_type": "stream",
     "text": [
      "436.607\n",
      "435.056\n",
      "438.258\n",
      "434.367\n",
      "436.506\n",
      "445.79\n",
      "438.484\n",
      "433.663\n",
      "484.367\n",
      "462.669\n",
      "[436.607, 435.056, 438.258, 434.367, 436.506, 445.79, 438.484, 433.663, 484.367, 462.669]\n"
     ]
    }
   ],
   "source": [
    "angle = random.random()\n",
    "time_list_quaterion=[]\n",
    "k=0\n",
    "while k < 10: \n",
    "    start_time = time.time()\n",
    "    for j in angle_list:\n",
    "        for i in sample_test:\n",
    "            rotationquaterion(angle,[i[0],i[1],i[2]],i) #rotation_quaterion dokonuje normalizacji osi obrotu\n",
    "    time_list_quaterion.append(round(time.time() - start_time,3))\n",
    "    print(time_list_quaterion[k])\n",
    "    k=k+1\n",
    "print(time_list_quaterion)"
   ]
  },
  {
   "cell_type": "code",
   "execution_count": 4,
   "metadata": {},
   "outputs": [
    {
     "name": "stdout",
     "output_type": "stream",
     "text": [
      "1417.351\n",
      "1452.808\n",
      "1561.091\n"
     ]
    }
   ],
   "source": [
    "time_list_matrix=[]\n",
    "k=0\n",
    "while k < 10:\n",
    "    start_time = time.time()\n",
    "    for j in angle_list:\n",
    "        for i in sample_test:\n",
    "            rot_matrix = rotationMatrixZYX(i[0],i[1],i[2])\n",
    "            RotationbyMatrix(rot_matrix,i)\n",
    "    time_list_matrix.append(round(time.time() - start_time,3))\n",
    "    print(time_list_matrix[k])\n",
    "    k=k+1\n",
    "print(time_list_matrix)"
   ]
  },
  {
   "cell_type": "code",
   "execution_count": null,
   "metadata": {},
   "outputs": [
    {
     "name": "stdout",
     "output_type": "stream",
     "text": [
      "Średni czas wykonany z użyciem obrotu kwaternionowego: 0.789 sekund\n",
      "Średni czas wykonany z użyciem obrotu macierzowego: 2.568 sekund\n"
     ]
    }
   ],
   "source": [
    "mean1 = round(sum(time_list_quaterion)/10,3)\n",
    "mean2 = round(sum(time_list_matrix)/10,3)\n",
    "print(f\"Średni czas wykonany z użyciem obrotu kwaternionowego: {mean1} sekund\") \n",
    "print(f\"Średni czas wykonany z użyciem obrotu macierzowego: {mean2} sekund\") "
   ]
  },
  {
   "cell_type": "code",
   "execution_count": null,
   "metadata": {},
   "outputs": [],
   "source": []
  }
 ],
 "metadata": {
  "kernelspec": {
   "display_name": ".venv",
   "language": "python",
   "name": "python3"
  },
  "language_info": {
   "codemirror_mode": {
    "name": "ipython",
    "version": 3
   },
   "file_extension": ".py",
   "mimetype": "text/x-python",
   "name": "python",
   "nbconvert_exporter": "python",
   "pygments_lexer": "ipython3",
   "version": "3.11.3"
  },
  "orig_nbformat": 4
 },
 "nbformat": 4,
 "nbformat_minor": 2
}
